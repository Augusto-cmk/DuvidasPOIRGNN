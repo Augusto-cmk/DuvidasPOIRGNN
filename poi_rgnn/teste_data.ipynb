{
 "cells": [
  {
   "cell_type": "code",
   "execution_count": 18,
   "metadata": {},
   "outputs": [],
   "source": [
    "import pandas as pd"
   ]
  },
  {
   "cell_type": "code",
   "execution_count": 4,
   "metadata": {},
   "outputs": [],
   "source": [
    "category_names = pd.read_csv(\"Data/input/category_names.csv\")\n",
    "checkins = pd.read_csv(\"Data/input/gowalla_checkins_with_category.csv\")"
   ]
  },
  {
   "cell_type": "code",
   "execution_count": 5,
   "metadata": {},
   "outputs": [
    {
     "data": {
      "text/html": [
       "<div>\n",
       "<style scoped>\n",
       "    .dataframe tbody tr th:only-of-type {\n",
       "        vertical-align: middle;\n",
       "    }\n",
       "\n",
       "    .dataframe tbody tr th {\n",
       "        vertical-align: top;\n",
       "    }\n",
       "\n",
       "    .dataframe thead th {\n",
       "        text-align: right;\n",
       "    }\n",
       "</style>\n",
       "<table border=\"1\" class=\"dataframe\">\n",
       "  <thead>\n",
       "    <tr style=\"text-align: right;\">\n",
       "      <th></th>\n",
       "      <th>userid</th>\n",
       "      <th>placeid</th>\n",
       "      <th>datetime</th>\n",
       "      <th>id</th>\n",
       "      <th>created_at</th>\n",
       "      <th>lng</th>\n",
       "      <th>lat</th>\n",
       "      <th>photos_count</th>\n",
       "      <th>checkins_count</th>\n",
       "      <th>users_count</th>\n",
       "      <th>radius_meters</th>\n",
       "      <th>highlights_count</th>\n",
       "      <th>items_count</th>\n",
       "      <th>max_items_count</th>\n",
       "      <th>spot_categories</th>\n",
       "      <th>categoryid</th>\n",
       "    </tr>\n",
       "  </thead>\n",
       "  <tbody>\n",
       "    <tr>\n",
       "      <th>0</th>\n",
       "      <td>1338</td>\n",
       "      <td>482954</td>\n",
       "      <td>2011-06-23T02:24:22Z</td>\n",
       "      <td>482954</td>\n",
       "      <td>2010-01-31T03:43:41Z</td>\n",
       "      <td>-93.177506</td>\n",
       "      <td>44.934198</td>\n",
       "      <td>4</td>\n",
       "      <td>50</td>\n",
       "      <td>33</td>\n",
       "      <td>50</td>\n",
       "      <td>0</td>\n",
       "      <td>5</td>\n",
       "      <td>10</td>\n",
       "      <td>[{'url': '/categories/241', 'name': 'Bar'}]</td>\n",
       "      <td>3</td>\n",
       "    </tr>\n",
       "    <tr>\n",
       "      <th>1</th>\n",
       "      <td>116691</td>\n",
       "      <td>482954</td>\n",
       "      <td>2011-06-05T17:42:29Z</td>\n",
       "      <td>482954</td>\n",
       "      <td>2010-01-31T03:43:41Z</td>\n",
       "      <td>-93.177506</td>\n",
       "      <td>44.934198</td>\n",
       "      <td>4</td>\n",
       "      <td>50</td>\n",
       "      <td>33</td>\n",
       "      <td>50</td>\n",
       "      <td>0</td>\n",
       "      <td>5</td>\n",
       "      <td>10</td>\n",
       "      <td>[{'url': '/categories/241', 'name': 'Bar'}]</td>\n",
       "      <td>3</td>\n",
       "    </tr>\n",
       "    <tr>\n",
       "      <th>2</th>\n",
       "      <td>59161</td>\n",
       "      <td>482954</td>\n",
       "      <td>2011-01-14T01:39:11Z</td>\n",
       "      <td>482954</td>\n",
       "      <td>2010-01-31T03:43:41Z</td>\n",
       "      <td>-93.177506</td>\n",
       "      <td>44.934198</td>\n",
       "      <td>4</td>\n",
       "      <td>50</td>\n",
       "      <td>33</td>\n",
       "      <td>50</td>\n",
       "      <td>0</td>\n",
       "      <td>5</td>\n",
       "      <td>10</td>\n",
       "      <td>[{'url': '/categories/241', 'name': 'Bar'}]</td>\n",
       "      <td>3</td>\n",
       "    </tr>\n",
       "    <tr>\n",
       "      <th>3</th>\n",
       "      <td>59161</td>\n",
       "      <td>482954</td>\n",
       "      <td>2010-07-23T01:32:22Z</td>\n",
       "      <td>482954</td>\n",
       "      <td>2010-01-31T03:43:41Z</td>\n",
       "      <td>-93.177506</td>\n",
       "      <td>44.934198</td>\n",
       "      <td>4</td>\n",
       "      <td>50</td>\n",
       "      <td>33</td>\n",
       "      <td>50</td>\n",
       "      <td>0</td>\n",
       "      <td>5</td>\n",
       "      <td>10</td>\n",
       "      <td>[{'url': '/categories/241', 'name': 'Bar'}]</td>\n",
       "      <td>3</td>\n",
       "    </tr>\n",
       "    <tr>\n",
       "      <th>4</th>\n",
       "      <td>149777</td>\n",
       "      <td>482954</td>\n",
       "      <td>2010-03-18T01:40:40Z</td>\n",
       "      <td>482954</td>\n",
       "      <td>2010-01-31T03:43:41Z</td>\n",
       "      <td>-93.177506</td>\n",
       "      <td>44.934198</td>\n",
       "      <td>4</td>\n",
       "      <td>50</td>\n",
       "      <td>33</td>\n",
       "      <td>50</td>\n",
       "      <td>0</td>\n",
       "      <td>5</td>\n",
       "      <td>10</td>\n",
       "      <td>[{'url': '/categories/241', 'name': 'Bar'}]</td>\n",
       "      <td>3</td>\n",
       "    </tr>\n",
       "    <tr>\n",
       "      <th>...</th>\n",
       "      <td>...</td>\n",
       "      <td>...</td>\n",
       "      <td>...</td>\n",
       "      <td>...</td>\n",
       "      <td>...</td>\n",
       "      <td>...</td>\n",
       "      <td>...</td>\n",
       "      <td>...</td>\n",
       "      <td>...</td>\n",
       "      <td>...</td>\n",
       "      <td>...</td>\n",
       "      <td>...</td>\n",
       "      <td>...</td>\n",
       "      <td>...</td>\n",
       "      <td>...</td>\n",
       "      <td>...</td>\n",
       "    </tr>\n",
       "    <tr>\n",
       "      <th>875919</th>\n",
       "      <td>80336</td>\n",
       "      <td>364856</td>\n",
       "      <td>2011-06-16T06:20:57Z</td>\n",
       "      <td>364856</td>\n",
       "      <td>2010-01-11T19:10:08Z</td>\n",
       "      <td>-2.006815</td>\n",
       "      <td>52.398330</td>\n",
       "      <td>0</td>\n",
       "      <td>11</td>\n",
       "      <td>3</td>\n",
       "      <td>75</td>\n",
       "      <td>0</td>\n",
       "      <td>1</td>\n",
       "      <td>10</td>\n",
       "      <td>[{'url': '/categories/44', 'name': 'Motel'}]</td>\n",
       "      <td>6</td>\n",
       "    </tr>\n",
       "    <tr>\n",
       "      <th>875920</th>\n",
       "      <td>80336</td>\n",
       "      <td>6464232</td>\n",
       "      <td>2011-06-06T14:18:47Z</td>\n",
       "      <td>6464232</td>\n",
       "      <td>2010-11-20T16:32:21Z</td>\n",
       "      <td>-0.161326</td>\n",
       "      <td>50.823806</td>\n",
       "      <td>0</td>\n",
       "      <td>3</td>\n",
       "      <td>3</td>\n",
       "      <td>75</td>\n",
       "      <td>0</td>\n",
       "      <td>1</td>\n",
       "      <td>10</td>\n",
       "      <td>[{'url': '/categories/49', 'name': 'Luxury Hot...</td>\n",
       "      <td>6</td>\n",
       "    </tr>\n",
       "    <tr>\n",
       "      <th>875921</th>\n",
       "      <td>80336</td>\n",
       "      <td>4593370</td>\n",
       "      <td>2011-06-05T12:16:11Z</td>\n",
       "      <td>4593370</td>\n",
       "      <td>2010-09-28T17:42:08Z</td>\n",
       "      <td>-0.347396</td>\n",
       "      <td>53.745687</td>\n",
       "      <td>3</td>\n",
       "      <td>16</td>\n",
       "      <td>10</td>\n",
       "      <td>75</td>\n",
       "      <td>0</td>\n",
       "      <td>0</td>\n",
       "      <td>10</td>\n",
       "      <td>[{'url': '/categories/237', 'name': 'Soul Food'}]</td>\n",
       "      <td>2</td>\n",
       "    </tr>\n",
       "    <tr>\n",
       "      <th>875922</th>\n",
       "      <td>80336</td>\n",
       "      <td>6504146</td>\n",
       "      <td>2011-06-05T11:07:24Z</td>\n",
       "      <td>6504146</td>\n",
       "      <td>2010-11-27T18:35:58Z</td>\n",
       "      <td>-0.315397</td>\n",
       "      <td>53.751760</td>\n",
       "      <td>0</td>\n",
       "      <td>17</td>\n",
       "      <td>3</td>\n",
       "      <td>75</td>\n",
       "      <td>0</td>\n",
       "      <td>0</td>\n",
       "      <td>10</td>\n",
       "      <td>[{'url': '/categories/118', 'name': 'Health &amp; ...</td>\n",
       "      <td>5</td>\n",
       "    </tr>\n",
       "    <tr>\n",
       "      <th>875923</th>\n",
       "      <td>80336</td>\n",
       "      <td>7445594</td>\n",
       "      <td>2011-05-31T12:03:43Z</td>\n",
       "      <td>7445594</td>\n",
       "      <td>2011-05-30T16:10:49Z</td>\n",
       "      <td>-0.086678</td>\n",
       "      <td>51.509726</td>\n",
       "      <td>0</td>\n",
       "      <td>5</td>\n",
       "      <td>5</td>\n",
       "      <td>75</td>\n",
       "      <td>0</td>\n",
       "      <td>0</td>\n",
       "      <td>10</td>\n",
       "      <td>[{'url': '/categories/1', 'name': 'Coffee Shop'}]</td>\n",
       "      <td>2</td>\n",
       "    </tr>\n",
       "  </tbody>\n",
       "</table>\n",
       "<p>875924 rows × 16 columns</p>\n",
       "</div>"
      ],
      "text/plain": [
       "        userid  placeid              datetime       id            created_at  \\\n",
       "0         1338   482954  2011-06-23T02:24:22Z   482954  2010-01-31T03:43:41Z   \n",
       "1       116691   482954  2011-06-05T17:42:29Z   482954  2010-01-31T03:43:41Z   \n",
       "2        59161   482954  2011-01-14T01:39:11Z   482954  2010-01-31T03:43:41Z   \n",
       "3        59161   482954  2010-07-23T01:32:22Z   482954  2010-01-31T03:43:41Z   \n",
       "4       149777   482954  2010-03-18T01:40:40Z   482954  2010-01-31T03:43:41Z   \n",
       "...        ...      ...                   ...      ...                   ...   \n",
       "875919   80336   364856  2011-06-16T06:20:57Z   364856  2010-01-11T19:10:08Z   \n",
       "875920   80336  6464232  2011-06-06T14:18:47Z  6464232  2010-11-20T16:32:21Z   \n",
       "875921   80336  4593370  2011-06-05T12:16:11Z  4593370  2010-09-28T17:42:08Z   \n",
       "875922   80336  6504146  2011-06-05T11:07:24Z  6504146  2010-11-27T18:35:58Z   \n",
       "875923   80336  7445594  2011-05-31T12:03:43Z  7445594  2011-05-30T16:10:49Z   \n",
       "\n",
       "              lng        lat  photos_count  checkins_count  users_count  \\\n",
       "0      -93.177506  44.934198             4              50           33   \n",
       "1      -93.177506  44.934198             4              50           33   \n",
       "2      -93.177506  44.934198             4              50           33   \n",
       "3      -93.177506  44.934198             4              50           33   \n",
       "4      -93.177506  44.934198             4              50           33   \n",
       "...           ...        ...           ...             ...          ...   \n",
       "875919  -2.006815  52.398330             0              11            3   \n",
       "875920  -0.161326  50.823806             0               3            3   \n",
       "875921  -0.347396  53.745687             3              16           10   \n",
       "875922  -0.315397  53.751760             0              17            3   \n",
       "875923  -0.086678  51.509726             0               5            5   \n",
       "\n",
       "        radius_meters  highlights_count  items_count  max_items_count  \\\n",
       "0                  50                 0            5               10   \n",
       "1                  50                 0            5               10   \n",
       "2                  50                 0            5               10   \n",
       "3                  50                 0            5               10   \n",
       "4                  50                 0            5               10   \n",
       "...               ...               ...          ...              ...   \n",
       "875919             75                 0            1               10   \n",
       "875920             75                 0            1               10   \n",
       "875921             75                 0            0               10   \n",
       "875922             75                 0            0               10   \n",
       "875923             75                 0            0               10   \n",
       "\n",
       "                                          spot_categories  categoryid  \n",
       "0             [{'url': '/categories/241', 'name': 'Bar'}]           3  \n",
       "1             [{'url': '/categories/241', 'name': 'Bar'}]           3  \n",
       "2             [{'url': '/categories/241', 'name': 'Bar'}]           3  \n",
       "3             [{'url': '/categories/241', 'name': 'Bar'}]           3  \n",
       "4             [{'url': '/categories/241', 'name': 'Bar'}]           3  \n",
       "...                                                   ...         ...  \n",
       "875919       [{'url': '/categories/44', 'name': 'Motel'}]           6  \n",
       "875920  [{'url': '/categories/49', 'name': 'Luxury Hot...           6  \n",
       "875921  [{'url': '/categories/237', 'name': 'Soul Food'}]           2  \n",
       "875922  [{'url': '/categories/118', 'name': 'Health & ...           5  \n",
       "875923  [{'url': '/categories/1', 'name': 'Coffee Shop'}]           2  \n",
       "\n",
       "[875924 rows x 16 columns]"
      ]
     },
     "execution_count": 5,
     "metadata": {},
     "output_type": "execute_result"
    }
   ],
   "source": [
    "checkins"
   ]
  },
  {
   "cell_type": "code",
   "execution_count": 9,
   "metadata": {},
   "outputs": [],
   "source": [
    "def classify(id):\n",
    "    return category_names.iloc[id]['name']"
   ]
  },
  {
   "cell_type": "code",
   "execution_count": 10,
   "metadata": {},
   "outputs": [],
   "source": [
    "checkins['category'] = checkins['categoryid'].apply(lambda x:classify(x))"
   ]
  },
  {
   "cell_type": "code",
   "execution_count": 12,
   "metadata": {},
   "outputs": [
    {
     "data": {
      "text/plain": [
       "array(['Nightlife', 'Shopping', 'Entertainment', 'Community', 'Food',\n",
       "       'Travel', 'Outdoors'], dtype=object)"
      ]
     },
     "execution_count": 12,
     "metadata": {},
     "output_type": "execute_result"
    }
   ],
   "source": [
    "checkins['category'].unique()"
   ]
  },
  {
   "cell_type": "code",
   "execution_count": 13,
   "metadata": {},
   "outputs": [
    {
     "data": {
      "text/plain": [
       "Index(['userid', 'placeid', 'datetime', 'id', 'created_at', 'lng', 'lat',\n",
       "       'photos_count', 'checkins_count', 'users_count', 'radius_meters',\n",
       "       'highlights_count', 'items_count', 'max_items_count', 'spot_categories',\n",
       "       'categoryid', 'category'],\n",
       "      dtype='object')"
      ]
     },
     "execution_count": 13,
     "metadata": {},
     "output_type": "execute_result"
    }
   ],
   "source": [
    "checkins.columns"
   ]
  },
  {
   "cell_type": "code",
   "execution_count": 14,
   "metadata": {},
   "outputs": [],
   "source": [
    "checkins.rename(columns={\"datetime\":\"local_datetime\",\"lat\":\"latitude\",\"lng\":\"longitude\"},inplace=True)"
   ]
  },
  {
   "cell_type": "code",
   "execution_count": 15,
   "metadata": {},
   "outputs": [],
   "source": [
    "checkins = checkins[[\"local_datetime\",\n",
    "                    \"userid\",\n",
    "                    \"placeid\",\n",
    "                    \"category\",\n",
    "                    \"latitude\",\n",
    "                    \"longitude\",\n",
    "                    \"id\"\n",
    "                    ]]"
   ]
  },
  {
   "cell_type": "code",
   "execution_count": 16,
   "metadata": {},
   "outputs": [
    {
     "data": {
      "text/html": [
       "<div>\n",
       "<style scoped>\n",
       "    .dataframe tbody tr th:only-of-type {\n",
       "        vertical-align: middle;\n",
       "    }\n",
       "\n",
       "    .dataframe tbody tr th {\n",
       "        vertical-align: top;\n",
       "    }\n",
       "\n",
       "    .dataframe thead th {\n",
       "        text-align: right;\n",
       "    }\n",
       "</style>\n",
       "<table border=\"1\" class=\"dataframe\">\n",
       "  <thead>\n",
       "    <tr style=\"text-align: right;\">\n",
       "      <th></th>\n",
       "      <th>local_datetime</th>\n",
       "      <th>userid</th>\n",
       "      <th>placeid</th>\n",
       "      <th>category</th>\n",
       "      <th>latitude</th>\n",
       "      <th>longitude</th>\n",
       "      <th>id</th>\n",
       "    </tr>\n",
       "  </thead>\n",
       "  <tbody>\n",
       "    <tr>\n",
       "      <th>0</th>\n",
       "      <td>2011-06-23T02:24:22Z</td>\n",
       "      <td>1338</td>\n",
       "      <td>482954</td>\n",
       "      <td>Nightlife</td>\n",
       "      <td>44.934198</td>\n",
       "      <td>-93.177506</td>\n",
       "      <td>482954</td>\n",
       "    </tr>\n",
       "    <tr>\n",
       "      <th>1</th>\n",
       "      <td>2011-06-05T17:42:29Z</td>\n",
       "      <td>116691</td>\n",
       "      <td>482954</td>\n",
       "      <td>Nightlife</td>\n",
       "      <td>44.934198</td>\n",
       "      <td>-93.177506</td>\n",
       "      <td>482954</td>\n",
       "    </tr>\n",
       "    <tr>\n",
       "      <th>2</th>\n",
       "      <td>2011-01-14T01:39:11Z</td>\n",
       "      <td>59161</td>\n",
       "      <td>482954</td>\n",
       "      <td>Nightlife</td>\n",
       "      <td>44.934198</td>\n",
       "      <td>-93.177506</td>\n",
       "      <td>482954</td>\n",
       "    </tr>\n",
       "    <tr>\n",
       "      <th>3</th>\n",
       "      <td>2010-07-23T01:32:22Z</td>\n",
       "      <td>59161</td>\n",
       "      <td>482954</td>\n",
       "      <td>Nightlife</td>\n",
       "      <td>44.934198</td>\n",
       "      <td>-93.177506</td>\n",
       "      <td>482954</td>\n",
       "    </tr>\n",
       "    <tr>\n",
       "      <th>4</th>\n",
       "      <td>2010-03-18T01:40:40Z</td>\n",
       "      <td>149777</td>\n",
       "      <td>482954</td>\n",
       "      <td>Nightlife</td>\n",
       "      <td>44.934198</td>\n",
       "      <td>-93.177506</td>\n",
       "      <td>482954</td>\n",
       "    </tr>\n",
       "    <tr>\n",
       "      <th>...</th>\n",
       "      <td>...</td>\n",
       "      <td>...</td>\n",
       "      <td>...</td>\n",
       "      <td>...</td>\n",
       "      <td>...</td>\n",
       "      <td>...</td>\n",
       "      <td>...</td>\n",
       "    </tr>\n",
       "    <tr>\n",
       "      <th>875919</th>\n",
       "      <td>2011-06-16T06:20:57Z</td>\n",
       "      <td>80336</td>\n",
       "      <td>364856</td>\n",
       "      <td>Travel</td>\n",
       "      <td>52.398330</td>\n",
       "      <td>-2.006815</td>\n",
       "      <td>364856</td>\n",
       "    </tr>\n",
       "    <tr>\n",
       "      <th>875920</th>\n",
       "      <td>2011-06-06T14:18:47Z</td>\n",
       "      <td>80336</td>\n",
       "      <td>6464232</td>\n",
       "      <td>Travel</td>\n",
       "      <td>50.823806</td>\n",
       "      <td>-0.161326</td>\n",
       "      <td>6464232</td>\n",
       "    </tr>\n",
       "    <tr>\n",
       "      <th>875921</th>\n",
       "      <td>2011-06-05T12:16:11Z</td>\n",
       "      <td>80336</td>\n",
       "      <td>4593370</td>\n",
       "      <td>Food</td>\n",
       "      <td>53.745687</td>\n",
       "      <td>-0.347396</td>\n",
       "      <td>4593370</td>\n",
       "    </tr>\n",
       "    <tr>\n",
       "      <th>875922</th>\n",
       "      <td>2011-06-05T11:07:24Z</td>\n",
       "      <td>80336</td>\n",
       "      <td>6504146</td>\n",
       "      <td>Shopping</td>\n",
       "      <td>53.751760</td>\n",
       "      <td>-0.315397</td>\n",
       "      <td>6504146</td>\n",
       "    </tr>\n",
       "    <tr>\n",
       "      <th>875923</th>\n",
       "      <td>2011-05-31T12:03:43Z</td>\n",
       "      <td>80336</td>\n",
       "      <td>7445594</td>\n",
       "      <td>Food</td>\n",
       "      <td>51.509726</td>\n",
       "      <td>-0.086678</td>\n",
       "      <td>7445594</td>\n",
       "    </tr>\n",
       "  </tbody>\n",
       "</table>\n",
       "<p>875924 rows × 7 columns</p>\n",
       "</div>"
      ],
      "text/plain": [
       "              local_datetime  userid  placeid   category   latitude  \\\n",
       "0       2011-06-23T02:24:22Z    1338   482954  Nightlife  44.934198   \n",
       "1       2011-06-05T17:42:29Z  116691   482954  Nightlife  44.934198   \n",
       "2       2011-01-14T01:39:11Z   59161   482954  Nightlife  44.934198   \n",
       "3       2010-07-23T01:32:22Z   59161   482954  Nightlife  44.934198   \n",
       "4       2010-03-18T01:40:40Z  149777   482954  Nightlife  44.934198   \n",
       "...                      ...     ...      ...        ...        ...   \n",
       "875919  2011-06-16T06:20:57Z   80336   364856     Travel  52.398330   \n",
       "875920  2011-06-06T14:18:47Z   80336  6464232     Travel  50.823806   \n",
       "875921  2011-06-05T12:16:11Z   80336  4593370       Food  53.745687   \n",
       "875922  2011-06-05T11:07:24Z   80336  6504146   Shopping  53.751760   \n",
       "875923  2011-05-31T12:03:43Z   80336  7445594       Food  51.509726   \n",
       "\n",
       "        longitude       id  \n",
       "0      -93.177506   482954  \n",
       "1      -93.177506   482954  \n",
       "2      -93.177506   482954  \n",
       "3      -93.177506   482954  \n",
       "4      -93.177506   482954  \n",
       "...           ...      ...  \n",
       "875919  -2.006815   364856  \n",
       "875920  -0.161326  6464232  \n",
       "875921  -0.347396  4593370  \n",
       "875922  -0.315397  6504146  \n",
       "875923  -0.086678  7445594  \n",
       "\n",
       "[875924 rows x 7 columns]"
      ]
     },
     "execution_count": 16,
     "metadata": {},
     "output_type": "execute_result"
    }
   ],
   "source": [
    "checkins"
   ]
  },
  {
   "cell_type": "code",
   "execution_count": 23,
   "metadata": {},
   "outputs": [],
   "source": [
    "df_geo = pd.read_csv(\"Data/input/gowalla_geo_checkins.csv\")"
   ]
  },
  {
   "cell_type": "code",
   "execution_count": 25,
   "metadata": {},
   "outputs": [
    {
     "data": {
      "text/plain": [
       "875924"
      ]
     },
     "execution_count": 25,
     "metadata": {},
     "output_type": "execute_result"
    }
   ],
   "source": [
    "len(df_geo)"
   ]
  },
  {
   "cell_type": "code",
   "execution_count": 26,
   "metadata": {},
   "outputs": [
    {
     "data": {
      "text/plain": [
       "875924"
      ]
     },
     "execution_count": 26,
     "metadata": {},
     "output_type": "execute_result"
    }
   ],
   "source": [
    "len(checkins)"
   ]
  },
  {
   "cell_type": "code",
   "execution_count": 32,
   "metadata": {},
   "outputs": [
    {
     "name": "stderr",
     "output_type": "stream",
     "text": [
      "/tmp/ipykernel_79398/2929783335.py:1: SettingWithCopyWarning: \n",
      "A value is trying to be set on a copy of a slice from a DataFrame.\n",
      "Try using .loc[row_indexer,col_indexer] = value instead\n",
      "\n",
      "See the caveats in the documentation: https://pandas.pydata.org/pandas-docs/stable/user_guide/indexing.html#returning-a-view-versus-a-copy\n",
      "  checkins['country_name'] = \"United States\"\n"
     ]
    }
   ],
   "source": [
    "checkins['country_name'] = \"United States\""
   ]
  },
  {
   "cell_type": "code",
   "execution_count": 33,
   "metadata": {},
   "outputs": [
    {
     "data": {
      "text/plain": [
       "0         United States\n",
       "1         United States\n",
       "2         United States\n",
       "3         United States\n",
       "4         United States\n",
       "              ...      \n",
       "875919    United States\n",
       "875920    United States\n",
       "875921    United States\n",
       "875922    United States\n",
       "875923    United States\n",
       "Name: country_name, Length: 875924, dtype: object"
      ]
     },
     "execution_count": 33,
     "metadata": {},
     "output_type": "execute_result"
    }
   ],
   "source": [
    "checkins['country_name']"
   ]
  },
  {
   "cell_type": "code",
   "execution_count": 34,
   "metadata": {},
   "outputs": [
    {
     "name": "stderr",
     "output_type": "stream",
     "text": [
      "/tmp/ipykernel_79398/1318192382.py:1: SettingWithCopyWarning: \n",
      "A value is trying to be set on a copy of a slice from a DataFrame.\n",
      "Try using .loc[row_indexer,col_indexer] = value instead\n",
      "\n",
      "See the caveats in the documentation: https://pandas.pydata.org/pandas-docs/stable/user_guide/indexing.html#returning-a-view-versus-a-copy\n",
      "  checkins['state_name'] = df_geo['NAME']\n"
     ]
    }
   ],
   "source": [
    "checkins['state_name'] = df_geo['NAME']"
   ]
  },
  {
   "cell_type": "code",
   "execution_count": 35,
   "metadata": {},
   "outputs": [
    {
     "data": {
      "text/plain": [
       "0         Minnesota\n",
       "1         Minnesota\n",
       "2         Minnesota\n",
       "3         Minnesota\n",
       "4         Minnesota\n",
       "            ...    \n",
       "875919          NaN\n",
       "875920          NaN\n",
       "875921          NaN\n",
       "875922          NaN\n",
       "875923          NaN\n",
       "Name: state_name, Length: 875924, dtype: object"
      ]
     },
     "execution_count": 35,
     "metadata": {},
     "output_type": "execute_result"
    }
   ],
   "source": [
    "checkins['state_name']"
   ]
  },
  {
   "cell_type": "code",
   "execution_count": 36,
   "metadata": {},
   "outputs": [],
   "source": [
    "checkins.to_csv(\"Data/input/users_steps.csv\")"
   ]
  }
 ],
 "metadata": {
  "kernelspec": {
   "display_name": "venv",
   "language": "python",
   "name": "python3"
  },
  "language_info": {
   "codemirror_mode": {
    "name": "ipython",
    "version": 3
   },
   "file_extension": ".py",
   "mimetype": "text/x-python",
   "name": "python",
   "nbconvert_exporter": "python",
   "pygments_lexer": "ipython3",
   "version": "3.10.12"
  }
 },
 "nbformat": 4,
 "nbformat_minor": 2
}
